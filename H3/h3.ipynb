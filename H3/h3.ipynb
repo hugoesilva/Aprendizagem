{
 "cells": [
  {
   "cell_type": "code",
   "execution_count": 48,
   "metadata": {},
   "outputs": [
    {
     "name": "stdout",
     "output_type": "stream",
     "text": [
      "Mean Absolute Error Ridge Linear Regression: 0.162829976437694\n"
     ]
    }
   ],
   "source": [
    "from sklearn.linear_model import LinearRegression, Ridge, Lasso\n",
    "import pandas as pd\n",
    "from scipy.io.arff import loadarff\n",
    "from sklearn.model_selection import train_test_split\n",
    "import matplotlib.pyplot as plt\n",
    "import seaborn as sns\n",
    "from sklearn.neural_network import MLPRegressor\n",
    "from sklearn import metrics, datasets\n",
    "\n",
    "\n",
    "#Consider the following three regressors applied on kin8nm.arff data\n",
    "\n",
    "#Load the data\n",
    "\n",
    "data = loadarff('kin8nm.arff')\n",
    "df = pd.DataFrame(data[0])\n",
    "\n",
    "X = df.drop('y', axis=1)\n",
    "y = df['y']\n",
    "\n",
    "\n",
    "#Split the data into train and test\n",
    "\n",
    "X_train, X_test, y_train, y_test = train_test_split(X, y, test_size = 0.30, random_state = 0)\n",
    "\n",
    "#Ridge Regression\n",
    "\n",
    "ridge = Ridge(alpha = 0.1)\n",
    "ridge.fit(X_train, y_train)\n",
    "y_pred_Ridge = ridge.predict(X_test)\n",
    "print('Mean Absolute Error Ridge Linear Regression:', metrics.mean_absolute_error(y_test, y_pred))\n",
    "\n",
    "\n",
    "#MLP1\n",
    "\n",
    "mlp1 = MLPRegressor(hidden_layer_sizes = (10, 10), activation = 'tanh', max_iter = 500, random_state = 0, early_stopping = True)\n",
    "mlp1.fit(X_train.values, y_train)\n",
    "y_pred_mlp1 = mlp1.predict(X_test.values)\n",
    "print('Mean Absolute Error MLP1:', metrics.mean_absolute_error(y_test, y_pred_mlp1))\n",
    "\n",
    "#MLP2\n",
    "\n",
    "mlp2 = MLPRegressor(hidden_layer_sizes = (10, 10), activation = 'tanh', max_iter=500, random_state = 0, early_stopping = False)\n",
    "mlp2.fit(X_train.values, y_train)\n",
    "y_pred_mlp2 = mlp2.predict(X_test.values)\n",
    "print('Mean Absolute Error MLP2:', metrics.mean_absolute_error(y_test, y_pred_mlp2))\n",
    "\n",
    "#Plot the residues (in absolute value) using two visualizations: boxplots and histograms.\n",
    "\n",
    "#Boxplot\n",
    "\n",
    "\n",
    "residues_Ridge = abs(y_test - y_pred_Ridge)\n",
    "residues_mlp1 = abs(y_test - y_pred_mlp1)\n",
    "residues_mlp2 = abs(y_test - y_pred_mlp2)\n",
    "\n",
    "residues = pd.DataFrame({'Ridge': residues_Ridge, 'MLP1': residues_mlp1, 'MLP2': residues_mlp2})\n",
    "\n",
    "sns.boxplot(data = residues)\n",
    "plt.title('Boxplot of residues')\n",
    "plt.savefig('boxplots.png')\n",
    "plt.show()\n",
    "\n",
    "#Histogram\n",
    "\n",
    "sns.distplot(residues['Ridge'], hist = True, kde = True, kde_kws = {'linewidth': 3}, label = 'Ridge')\n",
    "sns.distplot(residues['MLP1'], hist = True, kde = True, kde_kws = {'linewidth': 3}, label = 'MLP1')\n",
    "sns.distplot(residues['MLP2'], hist = True, kde = True, kde_kws = {'linewidth': 3}, label = 'MLP2')\n",
    "plt.title('Histogram of residues')\n",
    "plt.legend()\n",
    "plt.xlabel('Residues')\n",
    "plt.savefig('histograms.png')\n",
    "plt.show()\n",
    "\n",
    "\n",
    "#How many iterations were required for 𝑀𝐿𝑃1 and 𝑀𝐿𝑃2 to converge?\n",
    "\n",
    "print('MLP1 iterations:', mlp1.n_iter_)\n",
    "print('MLP2 iterations:', mlp2.n_iter_)\n",
    "print('MLP1 converged:', mlp1.n_iter_ < mlp1.max_iter)\n",
    "print('MLP2 converged:', mlp2.n_iter_ < mlp2.max_iter)\n",
    "\n",
    "\n",
    "\n"
   ]
  },
  {
   "cell_type": "code",
   "execution_count": null,
   "metadata": {},
   "outputs": [],
   "source": []
  }
 ],
 "metadata": {
  "kernelspec": {
   "display_name": "Python 3.9.13 64-bit",
   "language": "python",
   "name": "python3"
  },
  "language_info": {
   "codemirror_mode": {
    "name": "ipython",
    "version": 3
   },
   "file_extension": ".py",
   "mimetype": "text/x-python",
   "name": "python",
   "nbconvert_exporter": "python",
   "pygments_lexer": "ipython3",
   "version": "3.9.13"
  },
  "orig_nbformat": 4,
  "vscode": {
   "interpreter": {
    "hash": "aee8b7b246df8f9039afb4144a1f6fd8d2ca17a180786b69acc140d282b71a49"
   }
  }
 },
 "nbformat": 4,
 "nbformat_minor": 2
}
